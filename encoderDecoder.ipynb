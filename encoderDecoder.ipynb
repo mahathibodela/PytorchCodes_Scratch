{
 "cells": [
  {
   "cell_type": "markdown",
   "metadata": {},
   "source": [
    "FOR NMT STEPS WE NEED TO TAKE\n",
    "- unicode to asqcui \n",
    "- preprocess sentences\n",
    "- data exploration\n",
    "- building vocabulary indexes\n",
    "- pad sequnces\n",
    "- dataset , dataloader class\n",
    "- encoder building\n",
    "- decorder building"
   ]
  },
  {
   "cell_type": "code",
   "execution_count": null,
   "metadata": {},
   "outputs": [],
   "source": [
    "import torch\n",
    "import torch.nn as nn"
   ]
  },
  {
   "cell_type": "code",
   "execution_count": null,
   "metadata": {},
   "outputs": [],
   "source": [
    "class Encoder(nn.Module):\n",
    "    def __init__(self, vocab_size, embed_size, hidden_size, batch_size):\n",
    "        super(Encoder, self).__init__()\n",
    "        self.vocab_size = vocab_size\n",
    "        self.embed_size = embed_size\n",
    "        self.hidden_size = hidden_size\n",
    "        self.batch_size = batch_size\n",
    "\n",
    "        self.embed_layer = nn.Embedding(self.vocab_size, self.embed_size)\n",
    "        self.gru = nn.GRU(self.embed_size, self.hidden_size)\n",
    "    \n",
    "    def forward(self, X):\n",
    "        x = self.embedding(X) # batchSize, max_length, embed_dim\n",
    "        ho = torch.zeros((1, self.batch_size, self.hidden_size))\n",
    "        output, hidden = self.gru(x, ho)\n",
    "\n",
    "        return output, hidden\n"
   ]
  },
  {
   "cell_type": "code",
   "execution_count": null,
   "metadata": {},
   "outputs": [],
   "source": [
    "class Decoder(nn.Module):\n",
    "    def __init__(self, vocab_size, embed_size, dec_hidden, enc_hidden, batch_size):\n",
    "        self.vocab_size = vocab_size\n",
    "        self.embed_size = embed_size\n",
    "        self.dec_hidden = dec_hidden\n",
    "        self.enc_hidden = enc_hidden\n",
    "        self.batch_size = batch_size\n",
    "\n",
    "        self.embed_layer = nn.Embedding(self.vocab_size, self.embed_size)\n",
    "        self.gru = nn.GRU(self.embed_size + self.enc_hidden, self.dec_hidden, batch_first = True)\n",
    "        self.fc = nn.Linear(self.dec_units, self.vocab_size)\n",
    "    \n",
    "    def forward(self, x, hidden, enc_output):\n",
    "        enc_output = enc_output.premute(1, 0, 2)\n",
    "        ho = torch.zeros((1, self.batch_size, self.dec_hidden))\n",
    "        final_input = torch.cat((enc_output, hidden), dim = 1)\n",
    "        output, state = self.gru(x, ho)\n",
    "\n",
    "        # output shape == (batch_size * 1, hidden_size)\n",
    "        output =  output.view(-1, output.size(2))\n",
    "\n",
    "        x = self.fc(output)\n",
    "\n",
    "        return x, state\n",
    "\n",
    "\n",
    "\n"
   ]
  },
  {
   "cell_type": "code",
   "execution_count": null,
   "metadata": {},
   "outputs": [],
   "source": []
  }
 ],
 "metadata": {
  "kernelspec": {
   "display_name": "Python 3",
   "language": "python",
   "name": "python3"
  },
  "language_info": {
   "codemirror_mode": {
    "name": "ipython",
    "version": 3
   },
   "file_extension": ".py",
   "mimetype": "text/x-python",
   "name": "python",
   "nbconvert_exporter": "python",
   "pygments_lexer": "ipython3",
   "version": "3.11.2"
  }
 },
 "nbformat": 4,
 "nbformat_minor": 2
}

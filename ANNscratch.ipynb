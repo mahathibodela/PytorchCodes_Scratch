{
 "cells": [
  {
   "cell_type": "markdown",
   "metadata": {},
   "source": [
    "![Alt Text](image.png)"
   ]
  },
  {
   "cell_type": "markdown",
   "metadata": {},
   "source": [
    "EMINIT DATASET KELIYE\n",
    "output labels -- [labels] isa nehi liya \n",
    "to better pehle train karthe time deko output kasie arhahain uske respect main Y batch karlena"
   ]
  },
  {
   "cell_type": "code",
   "execution_count": 16,
   "metadata": {},
   "outputs": [],
   "source": [
    "import torch \n",
    "import torch.nn as nn\n",
    "\n",
    "X = torch.tensor(([2, 9], [1, 5], [3, 6]), dtype=torch.float) # 3*2 input\n",
    "Y = torch.tensor(([92], [100], [89]), dtype=torch.float) #3*1 tensor\n",
    "\n",
    "\n",
    "class Neural_Network(nn.Module):\n",
    "    def __init__(self, ):\n",
    "        super(Neural_Network, self).__init__()\n",
    "        self.inputSize = 2 # 2 features per instance, so 2 neurons to handle that\n",
    "        self.hiddenSize = 3 # projected into 3 dimentions\n",
    "        self.outputSize = 1\n",
    "\n",
    "        self.W1 = torch.randn(self.inputSize, self.hiddenSize)\n",
    "        self.W2 = torch.randn(self.hiddenSize, self.outputSize)\n",
    "    \n",
    "    def forward(self, X):\n",
    "        self.z = torch.matmul(X, self.W1) # 1*2, 2*3 - 1*3\n",
    "        self.z2 = torch.sigmoid(self.z) # 1*3\n",
    "        self.z3 = torch.matmul(self.z2, self.W2) # 1*3, 3*1 - 1\n",
    "        o = self.sigmoid(self.z3)\n",
    "        return o\n",
    "    \n",
    "    def sigmoid(self, s):\n",
    "        return 1/(1+torch.exp(-s))\n",
    "    \n",
    "    def sigmoidPrime(self, s):\n",
    "        return s * (1 - s)\n",
    "    \n",
    "    def backward(slef, X, y, o):\n",
    "        self.o.error = y - 0\n",
    "        self.o_delta = self.o_error * self.sigmoidPrime(o) \n",
    "        self.z2_error = torch.matmul(self.o_delta, torch.t(self.W2))\n",
    "        self.z2_delta = self.z2_error * self.sigmoidPrime(self.z2)\n",
    "        self.W1 += torch.matmul(torch.t(X), self.z2_delta)\n",
    "        self.W2 += torch.matmul(torch.t(self.z2), self.o_delta)\n"
   ]
  },
  {
   "cell_type": "code",
   "execution_count": 17,
   "metadata": {},
   "outputs": [
    {
     "name": "stdout",
     "output_type": "stream",
     "text": [
      "tensor([[0.6285],\n",
      "        [0.6313],\n",
      "        [0.6687]])\n"
     ]
    }
   ],
   "source": [
    "NN = Neural_Network()\n",
    "print(NN.forward(X))"
   ]
  }
 ],
 "metadata": {
  "kernelspec": {
   "display_name": "Python 3",
   "language": "python",
   "name": "python3"
  },
  "language_info": {
   "codemirror_mode": {
    "name": "ipython",
    "version": 3
   },
   "file_extension": ".py",
   "mimetype": "text/x-python",
   "name": "python",
   "nbconvert_exporter": "python",
   "pygments_lexer": "ipython3",
   "version": "3.11.2"
  }
 },
 "nbformat": 4,
 "nbformat_minor": 2
}
